{
  "nbformat": 4,
  "nbformat_minor": 0,
  "metadata": {
    "kernelspec": {
      "display_name": "Python 3",
      "language": "python",
      "name": "python3"
    },
    "language_info": {
      "codemirror_mode": {
        "name": "ipython",
        "version": 3
      },
      "file_extension": ".py",
      "mimetype": "text/x-python",
      "name": "python",
      "nbconvert_exporter": "python",
      "pygments_lexer": "ipython3",
      "version": "3.6.2"
    },
    "colab": {
      "name": "probabilities.ipynb",
      "provenance": [],
      "collapsed_sections": [
        "EB4HZsbbtDRl",
        "mLPM89Wts4Wj",
        "IP4NgCQmuGxw"
      ]
    }
  },
  "cells": [
    {
      "cell_type": "markdown",
      "metadata": {
        "id": "EB4HZsbbtDRl",
        "colab_type": "text"
      },
      "source": [
        "# Notebook Exercise 1: Mean and Standard Deviation\n",
        "\n",
        "Welcome! This workshop is from [WinderResearch.com](https://WinderResearch.com/?utm_source=trainingdatascience&utm_medium=notebook&utm_campaign=workshop&utm_term=individual).\n",
        "\n",
        "If you like this then please visit my website, [tweet @DrPhilWinder](https://twitter.com/DrPhilWinder) or get in touch via [Linkedin](https://www.linkedin.com/in/DrPhilWinder/) or plain old [email](mailto:phil@WinderResearch.com).\n",
        "\n",
        "In this warm up, I want to explain two fundamental measures of data. I want to you start thinking about how you can best describe or summarise data. How can we best take a set of data and describe that data in as few variables as possible? These are called _summary statistics_ because they summarise statistical data. They are a model!"
      ]
    },
    {
      "cell_type": "code",
      "metadata": {
        "id": "lc2nKtFNtDRn",
        "colab_type": "code",
        "colab": {}
      },
      "source": [
        "import numpy as np"
      ],
      "execution_count": 0,
      "outputs": []
    },
    {
      "cell_type": "markdown",
      "metadata": {
        "id": "v9RY0QRgtDRq",
        "colab_type": "text"
      },
      "source": [
        "## Mean\n",
        "\n",
        "The _mean_, also known as the average, is a measure of the tendency of the data. For example, if you were provided some data then you could say that, on average, is most likely best represented by the mean.\n",
        "\n",
        "The mean is calculated as:\n",
        "\n",
        "$$\\mu = \\frac{\\sum_{i=0}^{N-1}{ x_i }} {N}$$\n",
        "\n",
        "The sum of all observations divided by the number of observations."
      ]
    },
    {
      "cell_type": "code",
      "metadata": {
        "id": "6mH-aFRDtDRr",
        "colab_type": "code",
        "colab": {}
      },
      "source": [
        "x = [6, 4, 6, 9, 4, 4, 9, 7, 3, 6];"
      ],
      "execution_count": 0,
      "outputs": []
    },
    {
      "cell_type": "code",
      "metadata": {
        "id": "gMZ_1krWtDRt",
        "colab_type": "code",
        "outputId": "9349779d-b411-4a52-dcdc-6524d8d6351c",
        "colab": {
          "base_uri": "https://localhost:8080/",
          "height": 34
        }
      },
      "source": [
        "N = len(x)\n",
        "x_sum = 0\n",
        "for i in range(N):\n",
        "    x_sum = x_sum + x[i]\n",
        "mu = x_sum / N\n",
        "print(\"μ =\", mu)"
      ],
      "execution_count": 47,
      "outputs": [
        {
          "output_type": "stream",
          "text": [
            "μ = 5.8\n"
          ],
          "name": "stdout"
        }
      ]
    },
    {
      "cell_type": "markdown",
      "metadata": {
        "id": "MJmhQz4ctDRx",
        "colab_type": "text"
      },
      "source": [
        "Of course, we should be using libraries to reduce the amount of code we have to write. For low level tasks such as this, the most common library is called Numpy.\n",
        "\n",
        "We can rewrite the above as:"
      ]
    },
    {
      "cell_type": "code",
      "metadata": {
        "id": "RNoXzuhBtDRy",
        "colab_type": "code",
        "outputId": "d96311ba-b91e-4055-8097-411c3473c86e",
        "colab": {
          "base_uri": "https://localhost:8080/",
          "height": 34
        }
      },
      "source": [
        "N = len(x)\n",
        "x_sum = np.sum(x)\n",
        "mu = x_sum / N\n",
        "print(\"μ =\", mu)"
      ],
      "execution_count": 48,
      "outputs": [
        {
          "output_type": "stream",
          "text": [
            "μ = 5.8\n"
          ],
          "name": "stdout"
        }
      ]
    },
    {
      "cell_type": "markdown",
      "metadata": {
        "id": "_DNH_q04tDR0",
        "colab_type": "text"
      },
      "source": [
        "We can take this even further and just use Numpy's implementation of the mean:"
      ]
    },
    {
      "cell_type": "code",
      "metadata": {
        "id": "Yr_aSr5ftDR1",
        "colab_type": "code",
        "outputId": "71315bbf-bb55-410f-9941-34047b3afcbd",
        "colab": {
          "base_uri": "https://localhost:8080/",
          "height": 34
        }
      },
      "source": [
        "print(\"μ =\", np.mean(x))"
      ],
      "execution_count": 49,
      "outputs": [
        {
          "output_type": "stream",
          "text": [
            "μ = 5.8\n"
          ],
          "name": "stdout"
        }
      ]
    },
    {
      "cell_type": "markdown",
      "metadata": {
        "id": "y3iGJFm-tDR3",
        "colab_type": "text"
      },
      "source": [
        "## Standard Deviation\n",
        "\n",
        "To describe our data, the mean alone doesn't provide enough information. It tells us what value we should observe on average. But the values could be +/- 1 or +/- 100 of that value. (+/- is shorthand for \"plus or minus\", i.e. \"could be greater than or less than this value\").\n",
        "\n",
        "To provide this information we need a measure of \"spread\" around the mean. The most common measure of \"spread\" is the _standard deviation_.\n",
        "\n",
        "Read more about the standard deviation at: [TrainingDataScience.com - Why do we use Standard Deviation and is it Right?](https://trainingdatascience.com/tips/why-do-we-use-standard-deviation/?utm_source=trainingdatascience&utm_medium=notebook&utm_campaign=workshop&utm_term=individual).\n",
        "\n",
        "The standard deviation of a population is:\n",
        "\n",
        "$$\\sigma = \\sqrt{ \\frac{\\sum_{i=0}^{N-1}{ (x_i - \\mu )^2 }} {N} }$$"
      ]
    },
    {
      "cell_type": "code",
      "metadata": {
        "id": "0MQy5RqZtDR4",
        "colab_type": "code",
        "colab": {}
      },
      "source": [
        "x = [6, 4, 6, 9, 4, 4, 9, 7, 3, 6];"
      ],
      "execution_count": 0,
      "outputs": []
    },
    {
      "cell_type": "code",
      "metadata": {
        "id": "QEXjD9mhtDR6",
        "colab_type": "code",
        "outputId": "42bdcf17-f53c-4d2a-dfd7-cab50c64f7a6",
        "colab": {
          "base_uri": "https://localhost:8080/",
          "height": 34
        }
      },
      "source": [
        "N = len(x)\n",
        "mu = np.mean(x)\n",
        "print(\"μ =\", mu)"
      ],
      "execution_count": 51,
      "outputs": [
        {
          "output_type": "stream",
          "text": [
            "μ = 5.8\n"
          ],
          "name": "stdout"
        }
      ]
    },
    {
      "cell_type": "code",
      "metadata": {
        "id": "YZvJl1YPtDR8",
        "colab_type": "code",
        "outputId": "fa879990-ca4a-456f-8afb-0f9225ec681c",
        "colab": {
          "base_uri": "https://localhost:8080/",
          "height": 85
        }
      },
      "source": [
        "print(\"Deviations from the mean:\", x - mu)\n",
        "print(\"Squared deviations from the mean:\", (x - mu)**2)\n",
        "print(\"Sum of squared deviations from the mean:\", ((x - mu)**2).sum() )\n",
        "print(\"Mean of squared deviations from the mean:\", ((x - mu)**2).sum() / N )"
      ],
      "execution_count": 52,
      "outputs": [
        {
          "output_type": "stream",
          "text": [
            "Deviations from the mean: [ 0.2 -1.8  0.2  3.2 -1.8 -1.8  3.2  1.2 -2.8  0.2]\n",
            "Squared deviations from the mean: [ 0.04  3.24  0.04 10.24  3.24  3.24 10.24  1.44  7.84  0.04]\n",
            "Sum of squared deviations from the mean: 39.6\n",
            "Mean of squared deviations from the mean: 3.96\n"
          ],
          "name": "stdout"
        }
      ]
    },
    {
      "cell_type": "code",
      "metadata": {
        "id": "geOphzxrtDR-",
        "colab_type": "code",
        "outputId": "e02e46db-ea0e-45a3-c9f8-b1eb89df4d3e",
        "colab": {
          "base_uri": "https://localhost:8080/",
          "height": 34
        }
      },
      "source": [
        "print(\"σ =\", np.sqrt(((x - mu)**2).sum() / N ))"
      ],
      "execution_count": 53,
      "outputs": [
        {
          "output_type": "stream",
          "text": [
            "σ = 1.98997487421324\n"
          ],
          "name": "stdout"
        }
      ]
    },
    {
      "cell_type": "markdown",
      "metadata": {
        "id": "HlK4gw6ZtDSC",
        "colab_type": "text"
      },
      "source": [
        "Again, we don't need to code this all up. The Numpy equivalent is:"
      ]
    },
    {
      "cell_type": "code",
      "metadata": {
        "id": "JtwK82HftDSD",
        "colab_type": "code",
        "outputId": "2ece88e4-ac21-4cdd-c6bc-0bf3c3437459",
        "colab": {
          "base_uri": "https://localhost:8080/",
          "height": 34
        }
      },
      "source": [
        "print(\"σ =\", np.std(x))"
      ],
      "execution_count": 54,
      "outputs": [
        {
          "output_type": "stream",
          "text": [
            "σ = 1.98997487421324\n"
          ],
          "name": "stdout"
        }
      ]
    },
    {
      "cell_type": "markdown",
      "metadata": {
        "id": "3RbelK34tDSF",
        "colab_type": "text"
      },
      "source": [
        "## What's the Catch?\n",
        "\n",
        "You knew they'd be a catch, right? ;-)\n",
        "\n",
        "I didn't mention it at the start, but the two previous measures of the central tendency and the spread are specific to a very special combination of data.\n",
        "\n",
        "If the observations are _distributed_ in a special way, then these metrics perfectly _model_ the underlying data. If not, then these metrics are invalid."
      ]
    },
    {
      "cell_type": "markdown",
      "metadata": {
        "collapsed": true,
        "id": "mLPM89Wts4Wj",
        "colab_type": "text"
      },
      "source": [
        "# Notebook Exercise 2: Evidence and Probabilities\n",
        "\n",
        "Bayes rule is one of the most useful parts of statistics. It allows us to estimate probabilities that would otherwise be impossible.\n",
        "\n",
        "In this worksheet we look at bayes at a basic level, then try a naive classifier.\n",
        "\n",
        "## Bayes Rule\n",
        "\n",
        "Following on from the previous marketing examples, consider the following situation. You have already developed a model that decides to either show and advert, or not show an advert, to a set of customers.\n",
        "\n",
        "\n",
        "Your boss has come back with some results and says:\n",
        "\n",
        "> \"We're going to ask you to develop a new model, but first we need a baseline to compare against. Can you tell me what is the probability that a customer will buy our product, given that they have seen your advert?\".\n",
        "\n",
        "We notice the word \"given\" in the sentence and we release that we can use bayes rule:\n",
        "\n",
        "$p(B \\vert A) = \\frac{p(B) \\times p(A \\vert B)}{p(A)} = \\frac{p(B) \\times p(A \\vert B)}{p(B) \\times p(A \\vert B) + p(notB) \\times p(A \\vert notB)}$\n",
        "\n",
        "Where $A$ is being shown the advert and $B$ is buy our product.\n",
        "\n",
        "Next, she provides the following statistics from the previous experiment:\n",
        "\n",
        "- 10 people bought product after being shown the advert. (TP)\n",
        "- 1000 people were not shown the advert and didn't buy. (TN)\n",
        "- 50 people were shown the advert, but didn't buy. (FP)\n",
        "- And 5 people bought our product without being shown any advert. (FN)"
      ]
    },
    {
      "cell_type": "markdown",
      "metadata": {
        "id": "Iv5gsWpBs4Wk",
        "colab_type": "text"
      },
      "source": [
        "- 10 true positives. 10 people bought product.\n",
        "- 1000 true negatives. Not shown advert.\n",
        "- 50 false positives. They didn't buy, but were shown the advert.\n",
        "- 5 false negatives, people bought even though they weren't shown the advert.\n",
        "\n",
        "| |p | n|\n",
        "|--|--|--|\n",
        "|Y|10|50|\n",
        "|N|5|1000|"
      ]
    },
    {
      "cell_type": "code",
      "metadata": {
        "id": "lEdaB5HWs4Wl",
        "colab_type": "code",
        "colab": {
          "base_uri": "https://localhost:8080/",
          "height": 34
        },
        "outputId": "3bc10a58-a06f-4aab-c994-a9689737eb5b"
      },
      "source": [
        "T = 1000+50+10+5\n",
        "p_buy = (10+5)/T\n",
        "p_ad_buy = 10/15\n",
        "p_notbuy = (1000+50)/T\n",
        "p_ad_notbuy = 50/1050\n",
        "p_buy_ad = p_buy * p_ad_buy / (p_buy * p_ad_buy + p_notbuy * p_ad_notbuy)\n",
        "\n",
        "print(\"p(buy|ad) = %0.1f%%\" % (p_buy_ad*100))"
      ],
      "execution_count": 55,
      "outputs": [
        {
          "output_type": "stream",
          "text": [
            "p(buy|ad) = 16.7%\n"
          ],
          "name": "stdout"
        }
      ]
    },
    {
      "cell_type": "markdown",
      "metadata": {
        "id": "xeqemLxDs4Wp",
        "colab_type": "text"
      },
      "source": [
        "## Naive Bayes Classifier\n",
        "\n",
        "Now let's try a naive bayes classifier. Once again, sklearn makes this very easy.\n",
        "\n",
        "Tasks:\n",
        "\n",
        "- Classify the iris dataset\n",
        "- Print the confusion matrix\n",
        "- Print and investigate the resulting probabilities\n",
        "- Plot the ROC curves"
      ]
    },
    {
      "cell_type": "code",
      "metadata": {
        "scrolled": true,
        "id": "7i8TCzdCs4Wq",
        "colab_type": "code",
        "colab": {
          "base_uri": "https://localhost:8080/",
          "height": 34
        },
        "outputId": "e884fe08-0331-4281-f884-26aaf3fd59bf"
      },
      "source": [
        "from matplotlib import pyplot as plt\n",
        "from sklearn import metrics\n",
        "from sklearn import datasets\n",
        "from sklearn.naive_bayes import GaussianNB\n",
        "iris = datasets.load_iris()\n",
        "iris.data.shape"
      ],
      "execution_count": 56,
      "outputs": [
        {
          "output_type": "execute_result",
          "data": {
            "text/plain": [
              "(150, 4)"
            ]
          },
          "metadata": {
            "tags": []
          },
          "execution_count": 56
        }
      ]
    },
    {
      "cell_type": "code",
      "metadata": {
        "id": "6r61m50bs4Wt",
        "colab_type": "code",
        "colab": {
          "base_uri": "https://localhost:8080/",
          "height": 68
        },
        "outputId": "3ea4f6ca-ec90-4335-b6cc-e76534b3d478"
      },
      "source": [
        "gnb = GaussianNB()\n",
        "mdl = gnb.fit(iris.data, iris.target) # Tut, tut. We should really be splitting the training/test set.\n",
        "y_pred = mdl.predict(iris.data)\n",
        "cm = metrics.confusion_matrix(iris.target, y_pred)\n",
        "print(cm)"
      ],
      "execution_count": 57,
      "outputs": [
        {
          "output_type": "stream",
          "text": [
            "[[50  0  0]\n",
            " [ 0 47  3]\n",
            " [ 0  3 47]]\n"
          ],
          "name": "stdout"
        }
      ]
    },
    {
      "cell_type": "code",
      "metadata": {
        "id": "0BTx54fxs4Wv",
        "colab_type": "code",
        "colab": {
          "base_uri": "https://localhost:8080/",
          "height": 204
        },
        "outputId": "6ea82b4e-0f92-48d2-ad1d-0edb8c0d6b11"
      },
      "source": [
        "y_proba = gnb.fit(iris.data, iris.target).predict_proba(iris.data)\n",
        "print(\"These are the misclassified instances:\\n\", y_proba[iris.target != y_pred])\n",
        "print(\"They were classified as:\\n\", y_pred[iris.target != y_pred])\n",
        "print(\"But should have been:\\n\", iris.target[iris.target != y_pred])"
      ],
      "execution_count": 58,
      "outputs": [
        {
          "output_type": "stream",
          "text": [
            "These are the misclassified instances:\n",
            " [[1.87142859e-123 4.56151317e-001 5.43848683e-001]\n",
            " [2.59153803e-130 1.54494085e-001 8.45505915e-001]\n",
            " [1.16988122e-138 7.52691316e-002 9.24730868e-001]\n",
            " [2.23463702e-109 9.73514345e-001 2.64856553e-002]\n",
            " [6.31086515e-126 9.58135362e-001 4.18646381e-002]\n",
            " [2.68382583e-131 7.12645144e-001 2.87354856e-001]]\n",
            "They were classified as:\n",
            " [2 2 2 1 1 1]\n",
            "But should have been:\n",
            " [1 1 1 2 2 2]\n"
          ],
          "name": "stdout"
        }
      ]
    },
    {
      "cell_type": "code",
      "metadata": {
        "id": "eOqZieJhs4Wy",
        "colab_type": "code",
        "colab": {
          "base_uri": "https://localhost:8080/",
          "height": 295
        },
        "outputId": "c8f24c2d-67a0-4c1e-ec32-4d0e10d3ea24"
      },
      "source": [
        "# Ideally, generate a curve for each target. Do it in a loop.\n",
        "fpr, tpr, _ = metrics.roc_curve(iris.target, y_proba[:,1], pos_label=1)\n",
        "\n",
        "plt.figure()\n",
        "lw = 2\n",
        "plt.plot(fpr, tpr, color='darkorange',\n",
        "         lw=lw, label='ROC curve')\n",
        "plt.plot([0, 1], [0, 1], color='navy', lw=lw, linestyle='--', label='Random')\n",
        "plt.xlim([0.0, 1.0])\n",
        "plt.ylim([0.0, 1.05])\n",
        "plt.xlabel('False Positive Rate')\n",
        "plt.ylabel('True Positive Rate')\n",
        "plt.title('Receiver operating characteristic of iris data')\n",
        "plt.legend(loc=\"lower right\")\n",
        "plt.show()"
      ],
      "execution_count": 59,
      "outputs": [
        {
          "output_type": "display_data",
          "data": {
            "image/png": "[encoded data removed]",
            "text/plain": [
              "<Figure size 432x288 with 1 Axes>"
            ]
          },
          "metadata": {
            "tags": []
          }
        }
      ]
    },
    {
      "cell_type": "markdown",
      "metadata": {
        "id": "htakmd7js4W1",
        "colab_type": "text"
      },
      "source": [
        "## Tasks\n",
        "\n",
        "| |actual cancer | actual no cancer |\n",
        "|--|--|--|\n",
        "|diagnosed cancer|8|90|\n",
        "|not diagnosed cancer|2|900|\n",
        "\n",
        "- Above is a (simulated) confusion matrix for breast cancer diagnosis.\n",
        "  - What is the probability that a person has cancer given that they have a diagnosis? (Find p(cancer|diag))\n",
        "  \n",
        "## Bonus\n",
        "\n",
        "- Load the digits dataset from the previous workshop, classify with a naive bayes classifier and plot the ROC curve.\n",
        "- Compare that to another classifier"
      ]
    },
    {
      "cell_type": "code",
      "metadata": {
        "id": "9-3iW7bNs4W2",
        "colab_type": "code",
        "colab": {}
      },
      "source": [
        ""
      ],
      "execution_count": 0,
      "outputs": []
    },
    {
      "cell_type": "markdown",
      "metadata": {
        "id": "IP4NgCQmuGxw",
        "colab_type": "text"
      },
      "source": [
        "# Notebook Exercise 3: Changing Times\n",
        "\n",
        "This exercise is about looking at how _robust_ a model is. There are a range of recent libraries that you might want to look at too (https://github.com/marcotcr/lime or https://github.com/IBM/adversarial-robustness-toolbox). Let's try adding some jitter to a model to see how it performs after adding noise."
      ]
    },
    {
      "cell_type": "code",
      "metadata": {
        "id": "FNIZitQSuGxx",
        "colab_type": "code",
        "colab": {},
        "cellView": "form"
      },
      "source": [
        "#@title\n",
        "from sklearn import metrics, datasets, naive_bayes, svm, tree\n",
        "import numpy as np\n",
        "from matplotlib import pyplot as plt\n",
        "from sklearn.model_selection import train_test_split\n",
        "from pandas import Series\n",
        "from matplotlib import pyplot"
      ],
      "execution_count": 0,
      "outputs": []
    },
    {
      "cell_type": "markdown",
      "metadata": {
        "id": "YICCF_U3uGx0",
        "colab_type": "text"
      },
      "source": [
        "What we would expect is something like the following. If we have a model that grossly overfits the data, it is likely to start high (e.g. lookup table). Because it hasn't made any generalisations, as soon as we start adding noise performance will quickly drop."
      ]
    },
    {
      "cell_type": "code",
      "metadata": {
        "id": "7Jm6g-ziuGx0",
        "colab_type": "code",
        "outputId": "57413b5d-74be-4473-903e-6d58f836e0e6",
        "colab": {
          "base_uri": "https://localhost:8080/",
          "height": 308
        }
      },
      "source": [
        "x = np.linspace(0, 0.5, 100)\n",
        "\n",
        "plt.plot( x, 0.7 - 0.5*x + 0.3*np.exp(-x*20), label = \"Overfitted model\")\n",
        "plt.plot( x, 0.9 - 0.5*x, label = \"Non-Overfitted model\")\n",
        "plt.plot( x, 0.6 - 0.5*x, label = \"Poor model\")\n",
        "\n",
        "axes = plt.gca()\n",
        "axes.set_ylim([0, 1.1])\n",
        "\n",
        "plt.legend(loc=3)\n",
        "plt.suptitle(\"Expected decrease of accuracy in jitter test\")\n",
        "\n",
        "axes.set_xlabel('$\\sigma$')\n",
        "axes.set_ylabel('Accuracy')\n",
        "\n",
        "plt.show()"
      ],
      "execution_count": 61,
      "outputs": [
        {
          "output_type": "display_data",
          "data": {
            "image/png": "[encoded data removed]",
            "text/plain": [
              "<Figure size 432x288 with 1 Axes>"
            ]
          },
          "metadata": {
            "tags": []
          }
        }
      ]
    },
    {
      "cell_type": "markdown",
      "metadata": {
        "id": "4MDIf-tFuGx3",
        "colab_type": "text"
      },
      "source": [
        "## Jitter methods\n",
        "\n",
        "\"Jitter\" is simply some noise added to the original signal.\n",
        "\n",
        "Below a `jitter_test` runs a prediction on the new jitter data over several different jitter scales (standard deviations). To make the resulting curves a little smoother, we're performing the experiment several times and taking the average."
      ]
    },
    {
      "cell_type": "code",
      "metadata": {
        "id": "TYjSaLdPuGx4",
        "colab_type": "code",
        "colab": {}
      },
      "source": [
        "def jitter(X, scale=0.1):\n",
        "    return X + np.random.normal(0, scale, X.shape)\n",
        "\n",
        "def jitter_test(classifier, X, y, scales = np.linspace(0, 0.5, 30), N = 5):\n",
        "    out = []\n",
        "    for s in scales:\n",
        "        avg = 0.0\n",
        "        for r in range(N):\n",
        "            avg += metrics.accuracy_score(y, classifier.predict(jitter(X, s)))\n",
        "        out.append(avg / N)\n",
        "    return out, scales"
      ],
      "execution_count": 0,
      "outputs": []
    },
    {
      "cell_type": "markdown",
      "metadata": {
        "id": "BjfcRwD4uGx6",
        "colab_type": "text"
      },
      "source": [
        "Below we're generating the test data. We're using the moons dataset to make it quite difficult."
      ]
    },
    {
      "cell_type": "code",
      "metadata": {
        "id": "kiX4DFvluGx7",
        "colab_type": "code",
        "colab": {}
      },
      "source": [
        "np.random.seed(1234)\n",
        "X, y = datasets.make_moons(n_samples=200, noise=.3)"
      ],
      "execution_count": 0,
      "outputs": []
    },
    {
      "cell_type": "code",
      "metadata": {
        "id": "1f8hocQeuGx9",
        "colab_type": "code",
        "colab": {
          "base_uri": "https://localhost:8080/",
          "height": 71
        },
        "outputId": "c3ca47f0-c4e8-429f-b57b-58763b7ca88a"
      },
      "source": [
        "mdl1 = svm.SVC()\n",
        "mdl1.fit(X, y)\n",
        "\n",
        "mdl2 = tree.DecisionTreeClassifier()\n",
        "mdl2.fit(X,y);"
      ],
      "execution_count": 64,
      "outputs": [
        {
          "output_type": "stream",
          "text": [
            "/usr/local/lib/python3.6/dist-packages/sklearn/svm/base.py:193: FutureWarning: The default value of gamma will change from 'auto' to 'scale' in version 0.22 to account better for unscaled features. Set gamma explicitly to 'auto' or 'scale' to avoid this warning.\n",
            "  \"avoid this warning.\", FutureWarning)\n"
          ],
          "name": "stderr"
        }
      ]
    },
    {
      "cell_type": "code",
      "metadata": {
        "id": "72KqQojiuGyA",
        "colab_type": "code",
        "colab": {}
      },
      "source": [
        "mdl1_scores, jitters = jitter_test(mdl1, X, y)\n",
        "mdl2_scores, jitters = jitter_test(mdl2, X, y)"
      ],
      "execution_count": 0,
      "outputs": []
    },
    {
      "cell_type": "code",
      "metadata": {
        "id": "K26qjrhvuGyC",
        "colab_type": "code",
        "outputId": "41caa3ba-cde4-4467-c0fd-8a3f40b1d685",
        "colab": {
          "base_uri": "https://localhost:8080/",
          "height": 295
        }
      },
      "source": [
        "plt.figure()\n",
        "lw = 2\n",
        "plt.plot(jitters, mdl1_scores, color='darkorange',\n",
        "         lw=lw, label='SVM')\n",
        "plt.plot(jitters, mdl2_scores, color='blue',\n",
        "         lw=lw, label='Decision Tree')\n",
        "plt.xlabel('Amount of Jitter')\n",
        "plt.ylabel('Accuracy')\n",
        "plt.title('Accuracy for increasing jitter')\n",
        "plt.legend(loc=\"lower right\")\n",
        "plt.show()"
      ],
      "execution_count": 66,
      "outputs": [
        {
          "output_type": "display_data",
          "data": {
            "image/png": "[encoded data removed]",
            "text/plain": [
              "<Figure size 432x288 with 1 Axes>"
            ]
          },
          "metadata": {
            "tags": []
          }
        }
      ]
    },
    {
      "cell_type": "markdown",
      "metadata": {
        "id": "a-Z-M2mxuGyF",
        "colab_type": "text"
      },
      "source": [
        "Note how the decision tree result drops quickly. This is because even though we are just shifting the original data just a tiny bit, because it's so overfitted it quickly starts to misclassify data.\n",
        "\n",
        "Which do you think is the better model?\n",
        "\n",
        "## Bonus\n",
        "\n",
        "- Write some code to plot the decision boundaries of the classifiers. To do this the easiest thing is to just generate a load of random x,y coords and use the model to generate the class. Compare that to the plot above.\n",
        "\n",
        "Hint: Take a look at some of the other workshops.\n",
        "\n",
        "## Trends\n",
        "\n",
        "I just wanted to show you a really cool library for decomposing seasonal trends.\n",
        "\n",
        "It's essentially fitting the multiplicative model:\n",
        "\n",
        "$y(t) = Level * Trend * Seasonality * Noise$\n",
        "\n",
        "Below we have some data from the 1950's showing the number of people (monthly, in thousands) flying with an airline. You can see that there is clearly some seasonal variation.\n",
        "\n",
        "`statsmodels` is a comprehensive statistical library. It is has some overlap with `scipy.stats`, but is far more comprehensive."
      ]
    },
    {
      "cell_type": "code",
      "metadata": {
        "id": "dTfDiLkLuGyF",
        "colab_type": "code",
        "outputId": "9294edf4-58f1-4f47-f19d-9fa4a41bcae4",
        "colab": {
          "base_uri": "https://localhost:8080/",
          "height": 337
        }
      },
      "source": [
        "series = Series.from_csv('https://raw.githubusercontent.com/winderresearch/training-data-cleaning/master/data/airline-passengers.csv', header=0)\n",
        "series.plot()\n",
        "plt.show()"
      ],
      "execution_count": 67,
      "outputs": [
        {
          "output_type": "stream",
          "text": [
            "/usr/local/lib/python3.6/dist-packages/pandas/core/series.py:4141: FutureWarning: from_csv is deprecated. Please use read_csv(...) instead. Note that some of the default arguments are different, so please refer to the documentation for from_csv when changing your function calls\n",
            "  infer_datetime_format=infer_datetime_format)\n"
          ],
          "name": "stderr"
        },
        {
          "output_type": "display_data",
          "data": {
            "image/png": "[encoded data removed]",
            "text/plain": [
              "<Figure size 432x288 with 1 Axes>"
            ]
          },
          "metadata": {
            "tags": []
          }
        }
      ]
    },
    {
      "cell_type": "code",
      "metadata": {
        "id": "dkYLyivUuGyI",
        "colab_type": "code",
        "outputId": "8e0e77ce-a87e-4473-d8ed-eff4dd07835c",
        "colab": {
          "base_uri": "https://localhost:8080/",
          "height": 297
        }
      },
      "source": [
        "from statsmodels.tsa.seasonal import seasonal_decompose\n",
        "result = seasonal_decompose(series, model='multiplicative')\n",
        "result.plot()\n",
        "pyplot.show()"
      ],
      "execution_count": 68,
      "outputs": [
        {
          "output_type": "display_data",
          "data": {
            "image/png": "[encoded data removed]",
            "text/plain": [
              "<Figure size 432x288 with 4 Axes>"
            ]
          },
          "metadata": {
            "tags": []
          }
        }
      ]
    },
    {
      "cell_type": "markdown",
      "metadata": {
        "id": "vgc0eliZuGyK",
        "colab_type": "text"
      },
      "source": [
        "Note how well it de-seasonal-ises the data. After removing the seasonal variation the trend is quite consistent."
      ]
    },
    {
      "cell_type": "code",
      "metadata": {
        "id": "q58ClyiBuGyL",
        "colab_type": "code",
        "colab": {}
      },
      "source": [
        ""
      ],
      "execution_count": 0,
      "outputs": []
    }
  ]
}